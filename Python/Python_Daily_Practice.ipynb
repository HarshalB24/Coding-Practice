{
 "cells": [
  {
   "cell_type": "markdown",
   "id": "685b1e53",
   "metadata": {},
   "source": [
    "SOLVING 5-10 Questions Per Day to Improve in Python."
   ]
  },
  {
   "cell_type": "code",
   "execution_count": null,
   "id": "ac903b55",
   "metadata": {},
   "outputs": [
    {
     "data": {
      "text/plain": [
       "'lahsraH'"
      ]
     },
     "execution_count": 2,
     "metadata": {},
     "output_type": "execute_result"
    }
   ],
   "source": [
    "#1.Reverse a string :\n",
    "def rev_string(text):\n",
    "    return text[::-1]\n",
    "\n",
    "rev_string('Harshal')\n"
   ]
  },
  {
   "cell_type": "code",
   "execution_count": null,
   "id": "c477b863",
   "metadata": {},
   "outputs": [
    {
     "data": {
      "text/plain": [
       "'1BA'"
      ]
     },
     "execution_count": 5,
     "metadata": {},
     "output_type": "execute_result"
    }
   ],
   "source": [
    "### using for loop :\n",
    "#Logic : We loop through each character of string and instead of appending at the end , we add it in the beginning.\n",
    "\n",
    "#basically if the string is Harshal then the logic starts like :\n",
    "#rev_char='' empty string\n",
    "def rev_string(text):\n",
    "    rev_char=\"\"\n",
    "    for char in text:  #here we loop from the first character till the last and add each character at the front\n",
    "        rev_char= char + rev_char  #ex: initially rev_char=''\n",
    "    return rev_char                # then we add A to rev_char which looks like rev_char='A' + ''='A'\n",
    "rev_string('ABC')               #then we add 'B' before A which looks rev_char='B' + 'A'='BA' \n",
    "                                #then we add 'C' before B / at the start i.e. rev_char='C'+ 'BA'='CBA' and then the loop ends and returns the string."
   ]
  },
  {
   "cell_type": "code",
   "execution_count": null,
   "id": "7ff4bd51",
   "metadata": {},
   "outputs": [
    {
     "data": {
      "text/plain": [
       "'This is a Prime Number'"
      ]
     },
     "execution_count": 9,
     "metadata": {},
     "output_type": "execute_result"
    }
   ],
   "source": [
    "#2.Check if a Number is Prime\n",
    "#Logic : the Number is prime if its divisible by 1 or itself\n",
    "\n",
    "\n",
    "def prime(Num):\n",
    "    if Num <=1: # we check this to ensure number is not 1 & also not less than 1 bcz then it will never be prime\n",
    "        return \"Not a Prime Num\"\n",
    "    for i in range(2,Num): # this condition checks if the number is in range from 2 to Number but here the (start,stop) is exclusive \n",
    "                            #meaning the stop will not be included bcz the number is ofcourse div by itself and so for ex : if the number is 5 then we check in the range (2,3,4)\n",
    "        if Num % i==0: #this will divide thenumber by each number in range and see if its divisible\n",
    "            return \"Not Prime Number\"\n",
    "    return \"This is a Prime Number\"  # this condition is required bcz if the above condition is not satisfied then it will come out of loop and be a prime number\n",
    "\n",
    "prime(13)\n"
   ]
  },
  {
   "cell_type": "code",
   "execution_count": 1,
   "id": "d3a9124d",
   "metadata": {},
   "outputs": [
    {
     "name": "stdout",
     "output_type": "stream",
     "text": [
      "1000\n"
     ]
    }
   ],
   "source": [
    "#3.finding maximum number in a list\n",
    "def max_list(lst):\n",
    "    return max(lst) #using inbuilt function\n",
    "\n",
    "## using for loop :\n",
    "\n",
    "def max_list(lst): \n",
    "    max_num = lst[0]  # Start with the first number as max\n",
    "\n",
    "    for num in lst:   # Loop through the list\n",
    "        if num > max_num:  # If current number is greater than max_num\n",
    "            max_num = num  # Update max_num\n",
    "\n",
    "    return max_num\n",
    "\n",
    "print(max_list([2, 10, 1000]))  # Output: 100\n"
   ]
  },
  {
   "cell_type": "code",
   "execution_count": null,
   "id": "955455d7",
   "metadata": {},
   "outputs": [
    {
     "data": {
      "text/plain": [
       "2"
      ]
     },
     "execution_count": 4,
     "metadata": {},
     "output_type": "execute_result"
    }
   ],
   "source": [
    "#4.counting vowels in a given word\n",
    "def vowel(word):\n",
    "    vowels=['a','e','i','o','u','A','E','O','I','U']\n",
    "    count=0\n",
    "    for char in word:\n",
    "        if char in vowels:\n",
    "            count+=1\n",
    "    return count\n"
   ]
  },
  {
   "cell_type": "code",
   "execution_count": null,
   "id": "8e20ee22",
   "metadata": {},
   "outputs": [
    {
     "data": {
      "text/plain": [
       "3"
      ]
     },
     "execution_count": 4,
     "metadata": {},
     "output_type": "execute_result"
    }
   ],
   "source": [
    "5.#counting  consonants in a given word\n",
    "def consonant(word):\n",
    "    vowels=['a','e','i','o','u','A','E','O','I','U']\n",
    "    count=0\n",
    "    for char in word:\n",
    "        if char not in vowels:\n",
    "            count+=1\n",
    "    return count\n",
    "consonant(\"hello\")"
   ]
  },
  {
   "cell_type": "code",
   "execution_count": null,
   "id": "50e70a70",
   "metadata": {},
   "outputs": [
    {
     "data": {
      "text/plain": [
       "3"
      ]
     },
     "execution_count": 5,
     "metadata": {},
     "output_type": "execute_result"
    }
   ],
   "source": [
    "#6.counting the number of occurances of a character in string\n",
    "def count_occ(word):\n",
    "    character='g'\n",
    "    count=0\n",
    "    for char in word:\n",
    "        if char==character:\n",
    "            count+=1\n",
    "    return count\n",
    "count_occ(\"good gram morning\")\n",
    "\n",
    "## alternate\n",
    "def count_occ(word, character):\n",
    "    return word.count(character)\n",
    "\n",
    "print(count_occ(\"good gram morning\", 'g'))  # Output: 3\n"
   ]
  },
  {
   "cell_type": "code",
   "execution_count": 9,
   "id": "9c647be2",
   "metadata": {},
   "outputs": [
    {
     "name": "stdout",
     "output_type": "stream",
     "text": [
      "4\n",
      "(3, 4)\n"
     ]
    }
   ],
   "source": [
    "### finding the middle element of list\n",
    "def middle_element(lst):\n",
    "    if len(lst) == 0:\n",
    "        return \"List is empty\"\n",
    "    \n",
    "    elif len(lst) % 2 != 0:  # Odd number of elements\n",
    "        middle_index = len(lst) // 2\n",
    "        return lst[middle_index]\n",
    "    else:  # Even number of elements\n",
    "        mid1 = len(lst) // 2 - 1\n",
    "        mid2 = len(lst) // 2\n",
    "        return lst[mid1] , lst[mid2]\n",
    "\n",
    "# Example usage\n",
    "print(middle_element([1, 2, 3, 4, 5, 6, 7]))      # Output: 4\n",
    "print(middle_element([1, 2, 3, 4, 5, 6]))         # Output: (3, 4)\n",
    "\n"
   ]
  },
  {
   "cell_type": "code",
   "execution_count": 24,
   "id": "29999bc0",
   "metadata": {},
   "outputs": [
    {
     "name": "stdout",
     "output_type": "stream",
     "text": [
      "Jms\n"
     ]
    }
   ],
   "source": [
    "str1 = \"James\"\n",
    "middle_element=len(str1)//2\n",
    "a=str1[0]+str1[middle_element] + str1[len(str1)-1]\n",
    "print(a)"
   ]
  },
  {
   "cell_type": "code",
   "execution_count": 32,
   "id": "c8d7f959",
   "metadata": {},
   "outputs": [
    {
     "data": {
      "text/plain": [
       "'Son'"
      ]
     },
     "execution_count": 32,
     "metadata": {},
     "output_type": "execute_result"
    }
   ],
   "source": [
    "str1 = \"JaSonAy\"\n",
    "middle_element=len(str1)//2\n",
    "a=str1[len(str1)//2 - 1]+ str1[middle_element] +str1[len(str1)//2 + 1] \n",
    "a"
   ]
  },
  {
   "cell_type": "code",
   "execution_count": 56,
   "id": "cf37ca65",
   "metadata": {},
   "outputs": [
    {
     "name": "stdout",
     "output_type": "stream",
     "text": [
      "AuKellylt\n"
     ]
    }
   ],
   "source": [
    "s1 = \"Ault\"\n",
    "s2 = \"Kelly\"\n",
    "\n",
    "\n",
    "s3=''\n",
    "middle_element=len(s1)//2 - 1\n",
    "s3=s1[0:1]+s1[middle_element] + s2[::]+s1[-2:]\n",
    "print(s3)"
   ]
  },
  {
   "cell_type": "code",
   "execution_count": 1,
   "id": "6cbbd661",
   "metadata": {},
   "outputs": [
    {
     "name": "stdout",
     "output_type": "stream",
     "text": [
      "10\n",
      "<class 'decimal.Decimal'>\n"
     ]
    }
   ],
   "source": [
    "#converting an integer into decimal\n",
    "integer=10\n",
    "import decimal\n",
    "print(decimal.Decimal(integer))\n",
    "print(type(decimal.Decimal(integer)))"
   ]
  },
  {
   "cell_type": "code",
   "execution_count": 3,
   "id": "0df72d7a",
   "metadata": {},
   "outputs": [
    {
     "name": "stdout",
     "output_type": "stream",
     "text": [
      "12345\n",
      "<class 'decimal.Decimal'>\n"
     ]
    }
   ],
   "source": [
    "# converting string of integers into decimal\n",
    "import decimal\n",
    "string='12345'\n",
    "print(decimal.Decimal(string))\n",
    "print(type(decimal.Decimal(string)))"
   ]
  },
  {
   "cell_type": "code",
   "execution_count": 4,
   "id": "d9117f15",
   "metadata": {},
   "outputs": [
    {
     "name": "stdout",
     "output_type": "stream",
     "text": [
      "PYTRJ\n"
     ]
    }
   ],
   "source": [
    "#converting a list into string\n",
    "list=[\"P\",\"Y\",\"T\",\"R\",\"J\"]\n",
    "string=''.join(list)\n",
    "print(string)"
   ]
  },
  {
   "cell_type": "code",
   "execution_count": null,
   "id": "71787172",
   "metadata": {},
   "outputs": [
    {
     "name": "stdout",
     "output_type": "stream",
     "text": [
      "[9, 12, 13]\n"
     ]
    }
   ],
   "source": [
    "#adding two list elements together\n",
    "lst1=[2,3,5]\n",
    "lst2=[7,9,8]\n",
    "\n",
    "result=[]\n",
    "for i in range(0,len(lst1)):\n",
    "    result.append(lst1[i]+lst2[i])  ## this joins the elements at same indexes\n",
    "print(result)"
   ]
  },
  {
   "cell_type": "code",
   "execution_count": 9,
   "id": "055a8774",
   "metadata": {},
   "outputs": [
    {
     "name": "stdout",
     "output_type": "stream",
     "text": [
      "Jms\n"
     ]
    }
   ],
   "source": [
    "# ####################################################\n",
    "# #STRING EXCERCISE \n",
    "# Write a program to create a new string made of an input string’s first, middle, and last character.\n",
    "\n",
    "# Given:\n",
    "\n",
    "str1 = \"James\"\n",
    "# Expected Output:\n",
    "# Jms\n",
    "middle_element=len(str1)//2\n",
    "str=str1[0]+str1[middle_element]+str1[-1]\n",
    "print(str)"
   ]
  },
  {
   "cell_type": "code",
   "execution_count": 20,
   "id": "0b466483",
   "metadata": {},
   "outputs": [
    {
     "name": "stdout",
     "output_type": "stream",
     "text": [
      "Son\n"
     ]
    }
   ],
   "source": [
    "# Write a program to create a new string made of the middle three characters of an input string.\n",
    "\n",
    "# Given:\n",
    "# Case 1\n",
    "#str1 = \"JhonDipPeta\"\n",
    "# Output\n",
    "# Dip\n",
    "\n",
    "# Case 2\n",
    "str1 = \"JaSonAy\"\n",
    "# Output\n",
    "# Son\n",
    "middle_element=len(str1)//2\n",
    "str=str1[len(str1)//2-1]+str1[middle_element]+str1[len(str1)//2+1]\n",
    "print(str)"
   ]
  },
  {
   "cell_type": "code",
   "execution_count": 23,
   "id": "466dbeb7",
   "metadata": {},
   "outputs": [
    {
     "data": {
      "text/plain": [
       "'AJrpan'"
      ]
     },
     "execution_count": 23,
     "metadata": {},
     "output_type": "execute_result"
    }
   ],
   "source": [
    "# Exercise 3: Create a new string made of the first, middle, and last characters of each input string\n",
    "# Given two strings, s1 and s2, write a program to return a new string made of s1 and s2’s first, middle, and last characters.\n",
    "\n",
    "# Given:\n",
    "\n",
    "# s1 = \"America\"\n",
    "# s2 = \"Japan\"\n",
    "# Expected Output:\n",
    "\n",
    "# AJrpan\n",
    "\n",
    "def mix_String(s1,s2):\n",
    "    first_Char=s1[0] + s2[0]\n",
    "    middle_element=s1[int(len(s1)/2)]+s2[int(len(s2)/2)]\n",
    "    last_char=s1[-1]+s2[-1]\n",
    "\n",
    "    result=first_Char+middle_element+last_char\n",
    "    return result\n",
    "s1 = \"America\"\n",
    "s2 = \"Japan\"\n",
    "\n",
    "mix_String(s1,s2)"
   ]
  },
  {
   "cell_type": "code",
   "execution_count": 34,
   "id": "c38bb0e0",
   "metadata": {},
   "outputs": [
    {
     "name": "stdout",
     "output_type": "stream",
     "text": [
      "yaivePNT\n"
     ]
    }
   ],
   "source": [
    "# Exercise 4: Arrange string characters such that lowercase letters should come first\n",
    "# Given string contains a combination of the lower and upper case letters. Write a program to arrange the characters of a string so that all lowercase letters should come first.\n",
    "\n",
    "# Given:\n",
    "\n",
    "str1 = \"PyNaTive\"\n",
    "# Expected Output:\n",
    "\n",
    "lower=[]\n",
    "upper=[]\n",
    "for char in str1:\n",
    "    if char.islower():\n",
    "        lower.append(char)\n",
    "    else:\n",
    "        upper.append(char)\n",
    "\n",
    "sorted_str=''.join(lower+upper)\n",
    "print(sorted_str)\n"
   ]
  },
  {
   "cell_type": "code",
   "execution_count": null,
   "id": "8132ce2f",
   "metadata": {},
   "outputs": [],
   "source": []
  }
 ],
 "metadata": {
  "kernelspec": {
   "display_name": "Python 3",
   "language": "python",
   "name": "python3"
  },
  "language_info": {
   "codemirror_mode": {
    "name": "ipython",
    "version": 3
   },
   "file_extension": ".py",
   "mimetype": "text/x-python",
   "name": "python",
   "nbconvert_exporter": "python",
   "pygments_lexer": "ipython3",
   "version": "3.12.4"
  }
 },
 "nbformat": 4,
 "nbformat_minor": 5
}
