{
 "cells": [
  {
   "cell_type": "markdown",
   "id": "685b1e53",
   "metadata": {},
   "source": [
    "SOLVING 5-10 Questions Per Day to Improve in Python."
   ]
  },
  {
   "cell_type": "code",
   "execution_count": null,
   "id": "ac903b55",
   "metadata": {},
   "outputs": [
    {
     "data": {
      "text/plain": [
       "'lahsraH'"
      ]
     },
     "execution_count": 2,
     "metadata": {},
     "output_type": "execute_result"
    }
   ],
   "source": [
    "#1.Reverse a string :\n",
    "def rev_string(text):\n",
    "    return text[::-1]\n",
    "\n",
    "rev_string('Harshal')\n",
    "\n"
   ]
  },
  {
   "cell_type": "code",
   "execution_count": null,
   "id": "c477b863",
   "metadata": {},
   "outputs": [
    {
     "data": {
      "text/plain": [
       "'1BA'"
      ]
     },
     "execution_count": 5,
     "metadata": {},
     "output_type": "execute_result"
    }
   ],
   "source": [
    "### using for loop :\n",
    "#Logic : We loop through each character of string and instead of appending at the end , we add it in the beginning.\n",
    "def rev_string(text):\n",
    "    rev_Char=\"\"\n",
    "    for Char in text:\n",
    "        rev_Char= Char + rev_Char\n",
    "    return rev_Char\n",
    "\n",
    "rev_string('Harshal')"
   ]
  },
  {
   "cell_type": "code",
   "execution_count": null,
   "id": "7ff4bd51",
   "metadata": {},
   "outputs": [
    {
     "data": {
      "text/plain": [
       "'This is a Prime Number'"
      ]
     },
     "execution_count": 9,
     "metadata": {},
     "output_type": "execute_result"
    }
   ],
   "source": [
    "#2.Check if a Number is Prime\n",
    "#Logic : the Number is prime if its divisible by 1 or itself\n",
    "\n",
    "\n",
    "def prime(Num):\n",
    "    if Num <=1: # we check this to ensure number is not 1 & also not less than 1 bcz then it will never be prime\n",
    "        return \"Not a Prime Num\"\n",
    "    for i in range(2,Num): # this condition checks if the number is in range from 2 to Number but here the (start,stop) is exclusive \n",
    "                            #meaning the stop will not be included bcz the number is ofcourse div by itself and so for ex : if the number is 5 then we check in the range (2,3,4)\n",
    "        if Num % i==0: #this will divide thenumber by each number in range and see if its divisible\n",
    "            return \"Not Prime Number\"\n",
    "    return \"This is a Prime Number\"  # this condition is required bcz if the above condition is not satisfied then it will come out of loop and be a prime number\n",
    "\n",
    "prime(13)"
   ]
  },
  {
   "cell_type": "code",
   "execution_count": 12,
   "id": "d3a9124d",
   "metadata": {},
   "outputs": [
    {
     "name": "stdout",
     "output_type": "stream",
     "text": [
      "100\n"
     ]
    }
   ],
   "source": [
    "#3.finding maximum number in a list\n",
    "def max_list(lst):\n",
    "    return max(lst) #using inbuilt function\n",
    "\n",
    "## using for loop :\n",
    "\n",
    "def max_list(lst): \n",
    "    max_num = lst[0]  # Start with the first number as max\n",
    "\n",
    "    for num in lst:   # Loop through the list\n",
    "        if num > max_num:  # If current number is greater than max_num\n",
    "            max_num = num  # Update max_num\n",
    "\n",
    "    return max_num\n",
    "\n",
    "print(max_list([2, 10, 100]))  # Output: 100\n"
   ]
  }
 ],
 "metadata": {
  "kernelspec": {
   "display_name": "Python 3",
   "language": "python",
   "name": "python3"
  },
  "language_info": {
   "codemirror_mode": {
    "name": "ipython",
    "version": 3
   },
   "file_extension": ".py",
   "mimetype": "text/x-python",
   "name": "python",
   "nbconvert_exporter": "python",
   "pygments_lexer": "ipython3",
   "version": "3.12.4"
  }
 },
 "nbformat": 4,
 "nbformat_minor": 5
}
